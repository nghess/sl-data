{
 "cells": [
  {
   "cell_type": "code",
   "execution_count": 1,
   "metadata": {},
   "outputs": [],
   "source": [
    "from ks4_batch import *\n",
    "from IPython.display import clear_output, display"
   ]
  },
  {
   "cell_type": "markdown",
   "metadata": {},
   "source": [
    "### Initialize paths"
   ]
  },
  {
   "cell_type": "code",
   "execution_count": 2,
   "metadata": {},
   "outputs": [
    {
     "name": "stdout",
     "output_type": "stream",
     "text": [
      "Found 32 mua.npy files\n",
      "0 C:\\Users\\smearlab\\clickbait-ephys\\preprocessed_data\\6000\\0\\mua.npy\n",
      "1 C:\\Users\\smearlab\\clickbait-ephys\\preprocessed_data\\6000\\1\\mua.npy\n",
      "2 C:\\Users\\smearlab\\clickbait-ephys\\preprocessed_data\\6000\\2\\mua.npy\n",
      "3 C:\\Users\\smearlab\\clickbait-ephys\\preprocessed_data\\6000\\3\\mua.npy\n",
      "4 C:\\Users\\smearlab\\clickbait-ephys\\preprocessed_data\\6000\\4\\mua.npy\n",
      "5 C:\\Users\\smearlab\\clickbait-ephys\\preprocessed_data\\6000\\5\\mua.npy\n",
      "6 C:\\Users\\smearlab\\clickbait-ephys\\preprocessed_data\\6000\\6\\mua.npy\n",
      "7 C:\\Users\\smearlab\\clickbait-ephys\\preprocessed_data\\6000\\7\\mua.npy\n",
      "8 C:\\Users\\smearlab\\clickbait-ephys\\preprocessed_data\\6001\\0\\mua.npy\n",
      "9 C:\\Users\\smearlab\\clickbait-ephys\\preprocessed_data\\6001\\1\\mua.npy\n",
      "10 C:\\Users\\smearlab\\clickbait-ephys\\preprocessed_data\\6001\\2\\mua.npy\n",
      "11 C:\\Users\\smearlab\\clickbait-ephys\\preprocessed_data\\6001\\3\\mua.npy\n",
      "12 C:\\Users\\smearlab\\clickbait-ephys\\preprocessed_data\\6001\\4\\mua.npy\n",
      "13 C:\\Users\\smearlab\\clickbait-ephys\\preprocessed_data\\6001\\5\\mua.npy\n",
      "14 C:\\Users\\smearlab\\clickbait-ephys\\preprocessed_data\\6001\\6\\mua.npy\n",
      "15 C:\\Users\\smearlab\\clickbait-ephys\\preprocessed_data\\6001\\7\\mua.npy\n",
      "16 C:\\Users\\smearlab\\clickbait-ephys\\preprocessed_data\\6002\\0\\mua.npy\n",
      "17 C:\\Users\\smearlab\\clickbait-ephys\\preprocessed_data\\6002\\1\\mua.npy\n",
      "18 C:\\Users\\smearlab\\clickbait-ephys\\preprocessed_data\\6002\\2\\mua.npy\n",
      "19 C:\\Users\\smearlab\\clickbait-ephys\\preprocessed_data\\6002\\3\\mua.npy\n",
      "20 C:\\Users\\smearlab\\clickbait-ephys\\preprocessed_data\\6002\\4\\mua.npy\n",
      "21 C:\\Users\\smearlab\\clickbait-ephys\\preprocessed_data\\6002\\5\\mua.npy\n",
      "22 C:\\Users\\smearlab\\clickbait-ephys\\preprocessed_data\\6002\\6\\mua.npy\n",
      "23 C:\\Users\\smearlab\\clickbait-ephys\\preprocessed_data\\6002\\7\\mua.npy\n",
      "24 C:\\Users\\smearlab\\clickbait-ephys\\preprocessed_data\\6003\\0\\mua.npy\n",
      "25 C:\\Users\\smearlab\\clickbait-ephys\\preprocessed_data\\6003\\1\\mua.npy\n",
      "26 C:\\Users\\smearlab\\clickbait-ephys\\preprocessed_data\\6003\\2\\mua.npy\n",
      "27 C:\\Users\\smearlab\\clickbait-ephys\\preprocessed_data\\6003\\3\\mua.npy\n",
      "28 C:\\Users\\smearlab\\clickbait-ephys\\preprocessed_data\\6003\\4\\mua.npy\n",
      "29 C:\\Users\\smearlab\\clickbait-ephys\\preprocessed_data\\6003\\5\\mua.npy\n",
      "30 C:\\Users\\smearlab\\clickbait-ephys\\preprocessed_data\\6003\\6\\mua.npy\n",
      "31 C:\\Users\\smearlab\\clickbait-ephys\\preprocessed_data\\6003\\7\\mua.npy\n"
     ]
    }
   ],
   "source": [
    "# Load paths for subdirectories containing mua.npy files\n",
    "data_paths = get_mua_paths(r'C:/Users/smearlab/clickbait-ephys/preprocessed_data', print_paths=True)\n",
    "# Root directory for saving Kilosort results\n",
    "save_path = r'C:/Users/smearlab/clickbait-ephys/kilosorted_data/'"
   ]
  },
  {
   "cell_type": "code",
   "execution_count": 3,
   "metadata": {},
   "outputs": [
    {
     "data": {
      "text/plain": [
       "WindowsPath('C:/Users/smearlab/clickbait-ephys/preprocessed_data/6002/7/mua.npy')"
      ]
     },
     "execution_count": 3,
     "metadata": {},
     "output_type": "execute_result"
    }
   ],
   "source": [
    "data_paths[23]"
   ]
  },
  {
   "cell_type": "code",
   "execution_count": 4,
   "metadata": {},
   "outputs": [],
   "source": [
    "# Something is wrong with 6001/7\n",
    "data_paths = data_paths[:15] + data_paths[16:]"
   ]
  },
  {
   "cell_type": "markdown",
   "metadata": {},
   "source": [
    "### Kilosort data"
   ]
  },
  {
   "cell_type": "code",
   "execution_count": 5,
   "metadata": {},
   "outputs": [
    {
     "name": "stdout",
     "output_type": "stream",
     "text": [
      "All done!\n",
      "1 of 31 mua.npy files processed\n"
     ]
    }
   ],
   "source": [
    "count = 0\n",
    "\n",
    "for data_path in data_paths[23:24]:\n",
    "    print(f'Processing mua.npy {count+1} of {len(data_paths)}')\n",
    "    results_path = os.path.join(save_path, get_savedirs(data_path))\n",
    "    kilosort(data_path, results_path, probe_path='probe_maps/8_tetrode_2_region_20um.json')\n",
    "    clear_output(wait=True)\n",
    "    count += 1\n",
    "\n",
    "print('All done!')\n",
    "print(f'{count} of {len(data_paths)} mua.npy files processed')"
   ]
  }
 ],
 "metadata": {
  "kernelspec": {
   "display_name": "kilosort4",
   "language": "python",
   "name": "python3"
  },
  "language_info": {
   "codemirror_mode": {
    "name": "ipython",
    "version": 3
   },
   "file_extension": ".py",
   "mimetype": "text/x-python",
   "name": "python",
   "nbconvert_exporter": "python",
   "pygments_lexer": "ipython3",
   "version": "3.10.16"
  }
 },
 "nbformat": 4,
 "nbformat_minor": 2
}
