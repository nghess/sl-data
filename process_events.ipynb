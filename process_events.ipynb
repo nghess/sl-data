{
 "cells": [
  {
   "cell_type": "code",
   "execution_count": 8,
   "metadata": {},
   "outputs": [],
   "source": [
    "from behavior_utils import *\n",
    "import matplotlib.pyplot as plt"
   ]
  },
  {
   "cell_type": "markdown",
   "metadata": {},
   "source": [
    "### Initialize paths\n"
   ]
  },
  {
   "cell_type": "code",
   "execution_count": 10,
   "metadata": {},
   "outputs": [
    {
     "name": "stdout",
     "output_type": "stream",
     "text": [
      "Found 54 ttl.npy files\n",
      "0 S:\\clickbait-visual\\preprocessed\\7001\\v1\\ttls.npy\n",
      "1 S:\\clickbait-visual\\preprocessed\\7001\\v2\\ttls.npy\n",
      "2 S:\\clickbait-visual\\preprocessed\\7001\\v3\\ttls.npy\n",
      "3 S:\\clickbait-visual\\preprocessed\\7001\\v4\\ttls.npy\n",
      "4 S:\\clickbait-visual\\preprocessed\\7001\\v5\\ttls.npy\n",
      "5 S:\\clickbait-visual\\preprocessed\\7001\\v6\\ttls.npy\n",
      "6 S:\\clickbait-visual\\preprocessed\\7001\\v7\\ttls.npy\n",
      "7 S:\\clickbait-visual\\preprocessed\\7001\\v8\\ttls.npy\n",
      "8 S:\\clickbait-visual\\preprocessed\\7001\\v10\\ttls.npy\n",
      "9 S:\\clickbait-visual\\preprocessed\\7001\\v11\\ttls.npy\n",
      "10 S:\\clickbait-visual\\preprocessed\\7001\\v12\\ttls.npy\n",
      "11 S:\\clickbait-visual\\preprocessed\\7002\\v2\\ttls.npy\n",
      "12 S:\\clickbait-visual\\preprocessed\\7002\\v3\\ttls.npy\n",
      "13 S:\\clickbait-visual\\preprocessed\\7002\\v4\\ttls.npy\n",
      "14 S:\\clickbait-visual\\preprocessed\\7002\\v5\\ttls.npy\n",
      "15 S:\\clickbait-visual\\preprocessed\\7002\\v6\\ttls.npy\n",
      "16 S:\\clickbait-visual\\preprocessed\\7002\\v7\\ttls.npy\n",
      "17 S:\\clickbait-visual\\preprocessed\\7002\\v8\\ttls.npy\n",
      "18 S:\\clickbait-visual\\preprocessed\\7002\\v9\\ttls.npy\n",
      "19 S:\\clickbait-visual\\preprocessed\\7002\\v10\\ttls.npy\n",
      "20 S:\\clickbait-visual\\preprocessed\\7002\\v11\\ttls.npy\n",
      "21 S:\\clickbait-visual\\preprocessed\\7002\\v12\\ttls.npy\n",
      "22 S:\\clickbait-visual\\preprocessed\\7003\\v2\\ttls.npy\n",
      "23 S:\\clickbait-visual\\preprocessed\\7003\\v3\\ttls.npy\n",
      "24 S:\\clickbait-visual\\preprocessed\\7003\\v4\\ttls.npy\n",
      "25 S:\\clickbait-visual\\preprocessed\\7003\\v5\\ttls.npy\n",
      "26 S:\\clickbait-visual\\preprocessed\\7003\\v6\\ttls.npy\n",
      "27 S:\\clickbait-visual\\preprocessed\\7003\\v7\\ttls.npy\n",
      "28 S:\\clickbait-visual\\preprocessed\\7003\\v8\\ttls.npy\n",
      "29 S:\\clickbait-visual\\preprocessed\\7003\\v9\\ttls.npy\n",
      "30 S:\\clickbait-visual\\preprocessed\\7003\\v10\\ttls.npy\n",
      "31 S:\\clickbait-visual\\preprocessed\\7003\\v11\\ttls.npy\n",
      "32 S:\\clickbait-visual\\preprocessed\\7003\\v12\\ttls.npy\n",
      "33 S:\\clickbait-visual\\preprocessed\\7004\\v1\\ttls.npy\n",
      "34 S:\\clickbait-visual\\preprocessed\\7004\\v2\\ttls.npy\n",
      "35 S:\\clickbait-visual\\preprocessed\\7004\\v3\\ttls.npy\n",
      "36 S:\\clickbait-visual\\preprocessed\\7004\\v4\\ttls.npy\n",
      "37 S:\\clickbait-visual\\preprocessed\\7004\\v5\\ttls.npy\n",
      "38 S:\\clickbait-visual\\preprocessed\\7004\\v6\\ttls.npy\n",
      "39 S:\\clickbait-visual\\preprocessed\\7004\\v7\\ttls.npy\n",
      "40 S:\\clickbait-visual\\preprocessed\\7004\\v8\\ttls.npy\n",
      "41 S:\\clickbait-visual\\preprocessed\\7004\\v9\\ttls.npy\n",
      "42 S:\\clickbait-visual\\preprocessed\\7004\\v10\\ttls.npy\n",
      "43 S:\\clickbait-visual\\preprocessed\\7004\\v11\\ttls.npy\n",
      "44 S:\\clickbait-visual\\preprocessed\\7004\\v12\\ttls.npy\n",
      "45 S:\\clickbait-visual\\preprocessed\\7005\\v1\\ttls.npy\n",
      "46 S:\\clickbait-visual\\preprocessed\\7005\\v2\\ttls.npy\n",
      "47 S:\\clickbait-visual\\preprocessed\\7005\\v3\\ttls.npy\n",
      "48 S:\\clickbait-visual\\preprocessed\\7005\\v4\\ttls.npy\n",
      "49 S:\\clickbait-visual\\preprocessed\\7005\\v5\\ttls.npy\n",
      "50 S:\\clickbait-visual\\preprocessed\\7005\\v6\\ttls.npy\n",
      "51 S:\\clickbait-visual\\preprocessed\\7005\\v7\\ttls.npy\n",
      "52 S:\\clickbait-visual\\preprocessed\\7005\\v8\\ttls.npy\n",
      "53 S:\\clickbait-visual\\preprocessed\\7005\\v9\\ttls.npy\n",
      "Found 58 .avi files\n",
      "Found 58 timestamp.csv files\n",
      "Found 58 _eventsA.csv files\n",
      "Found 58 _eventsB.csv files\n"
     ]
    }
   ],
   "source": [
    "# Get paths to relevant files\n",
    "ttl_paths = get_file_paths(r'S:/clickbait-visual/preprocessed', 'npy', 'ttl', session_type=\"v\", print_paths=True, print_n=np.inf)\n",
    "video_paths = get_file_paths(r'S:/clickbait-visual/tetrode_ob-hc', 'avi', '', session_type=\"v\", print_paths=False, print_n=3)\n",
    "timestamps = get_file_paths(r'S:/clickbait-visual/tetrode_ob-hc', 'csv', 'timestamp', session_type=\"v\", print_paths=False, print_n=3)\n",
    "event_paths_a = get_file_paths(r'S:/clickbait-visual/tetrode_ob-hc', 'csv', '_eventsA', session_type=\"v\", print_paths=False, print_n=3)\n",
    "event_paths_b = get_file_paths(r'S:/clickbait-visual/tetrode_ob-hc', 'csv', '_eventsB', session_type=\"v\", print_paths=False, print_n=3)\n",
    "\n",
    "# Root directory for saving processed data\n",
    "save_path = Path('S:/clickbait-visual/bonsai_align')"
   ]
  },
  {
   "cell_type": "code",
   "execution_count": 11,
   "metadata": {},
   "outputs": [
    {
     "name": "stdout",
     "output_type": "stream",
     "text": [
      "54\n",
      "54\n",
      "54\n",
      "54\n"
     ]
    }
   ],
   "source": [
    "# Filter paths to match ttl paths\n",
    "def filter_paths(paths_to_filter, paths_to_reference):\n",
    "    # Take paths if their final two parent directories match the reference paths\n",
    "    filtered_paths = []\n",
    "    for path in paths_to_filter:\n",
    "        for ref_path in paths_to_reference:\n",
    "            if (path.parents[1].name == ref_path.parents[1].name and \n",
    "                path.parents[0].name == ref_path.parents[0].name):\n",
    "                filtered_paths.append(path)\n",
    "                break\n",
    "    return filtered_paths\n",
    "\n",
    "# Filter paths\n",
    "video_paths = filter_paths(video_paths, ttl_paths)\n",
    "timestamps = filter_paths(timestamps, ttl_paths)\n",
    "event_paths_a = filter_paths(event_paths_a, ttl_paths)\n",
    "event_paths_b = filter_paths(event_paths_b, ttl_paths)\n",
    "\n",
    "print(f\"{len(video_paths)}\")\n",
    "print(f\"{len(timestamps)}\")\n",
    "print(f\"{len(event_paths_a)}\")\n",
    "print(f\"{len(event_paths_b)}\")"
   ]
  },
  {
   "cell_type": "markdown",
   "metadata": {},
   "source": [
    "### Process events and assign TTL times to each observation"
   ]
  },
  {
   "cell_type": "code",
   "execution_count": 12,
   "metadata": {},
   "outputs": [
    {
     "name": "stdout",
     "output_type": "stream",
     "text": [
      "Saved events for 7001 v1 to S:\\clickbait-visual\\bonsai_align\\7001\\v1\\events.csv\n"
     ]
    }
   ],
   "source": [
    "for session_idx in range(len(video_paths[:1])):\n",
    "    #try:\n",
    "    # Binarize ttl signal and crop to capture portion\n",
    "    ttl_full = process_ttl(ttl_paths[session_idx], ttl_floor=10000, min_frame_duration=6, min_frame_spacing=6)\n",
    "    ttl_crop, ttl_times = crop_ttl(ttl_full)\n",
    "\n",
    "    event_data = process_events(session_idx, event_paths_a, event_paths_b)\n",
    "    # Create a column of millisecond timestamps, derived from Bonsai timestamps and offset by the first ttl pulse time\n",
    "    ttl_offset = len(ttl_times) - len(event_data)\n",
    "    timestamp_ms =  ttl_times[ttl_offset:]\n",
    "    event_data['timestamp_ms'] = timestamp_ms.astype(np.int32)\n",
    "\n",
    "    # Set up save path\n",
    "    mouse_id = ttl_paths[session_idx].parents[1].name\n",
    "    session_id = ttl_paths[session_idx].parents[0].name\n",
    "    event_path = save_path / mouse_id / session_id\n",
    "\n",
    "    # if event path doesn't exist, create it\n",
    "    if not event_path.exists():\n",
    "        event_path.mkdir(parents=True, exist_ok=True)\n",
    "    \n",
    "    # Save event data\n",
    "    event_data.to_csv(save_path / mouse_id / session_id / f'events.csv', index=False)\n",
    "    print(f\"Saved events for {mouse_id} {session_id} to {save_path / mouse_id / session_id / f'events.csv'}\")\n",
    "    #except:\n",
    "     #   print(f\"Error processing events for {video_paths[session_idx]}\")\n",
    "     #   continue"
   ]
  }
 ],
 "metadata": {
  "kernelspec": {
   "display_name": "base",
   "language": "python",
   "name": "python3"
  },
  "language_info": {
   "codemirror_mode": {
    "name": "ipython",
    "version": 3
   },
   "file_extension": ".py",
   "mimetype": "text/x-python",
   "name": "python",
   "nbconvert_exporter": "python",
   "pygments_lexer": "ipython3",
   "version": "3.11.4"
  }
 },
 "nbformat": 4,
 "nbformat_minor": 2
}
